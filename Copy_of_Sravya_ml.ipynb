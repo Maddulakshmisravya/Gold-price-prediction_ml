{
  "nbformat": 4,
  "nbformat_minor": 0,
  "metadata": {
    "colab": {
      "provenance": []
    },
    "kernelspec": {
      "name": "python3",
      "display_name": "Python 3"
    },
    "language_info": {
      "name": "python"
    }
  },
  "cells": [
    {
      "cell_type": "code",
      "source": [],
      "metadata": {
        "id": "EmNNotRkh470"
      },
      "execution_count": null,
      "outputs": []
    },
    {
      "cell_type": "code",
      "source": [
        "import numpy as np\n",
        "import pandas as pd\n",
        "from sklearn.model_selection import train_test_split\n",
        "from sklearn.ensemble import RandomForestRegressor, StackingRegressor\n",
        "from xgboost import XGBRegressor\n",
        "from sklearn import metrics\n",
        "import matplotlib.pyplot as plt\n",
        "\n",
        "# Load the dataset\n",
        "gold_data = pd.read_csv('gld_price_data_extended_v3.csv')\n",
        "\n",
        "# Drop unnecessary columns (like 'Date' if present)\n",
        "if 'Date' in gold_data.columns:\n",
        "    gold_data.drop(columns=['Date'], inplace=True)\n",
        "\n",
        "# Remove missing values\n",
        "gold_data.dropna(inplace=True)\n",
        "\n",
        "# Splitting data into features and target\n",
        "X = gold_data.drop(columns=['GLD'])\n",
        "y = gold_data['GLD']\n",
        "\n",
        "# Train-test split\n",
        "X_train, X_test, Y_train, Y_test = train_test_split(X, y, test_size=0.2, random_state=2)\n",
        "\n",
        "# Define base models for stacking (ONLY 2 MODELS)\n",
        "base_models = [\n",
        "    ('rf', RandomForestRegressor(n_estimators=30, max_depth=5, random_state=2)),\n",
        "    ('xgb', XGBRegressor(n_estimators=30, learning_rate=0.2, max_depth=3, random_state=2))\n",
        "]\n",
        "\n",
        "# Stacking Regressor\n",
        "stacking_reg = StackingRegressor(estimators=base_models, final_estimator=XGBRegressor(n_estimators=20, learning_rate=0.3, random_state=2))\n",
        "\n",
        "# Train the model\n",
        "stacking_reg.fit(X_train, Y_train)\n",
        "\n",
        "# Predict and evaluate\n",
        "y_pred = stacking_reg.predict(X_test)\n",
        "\n",
        "# Compute evaluation metrics\n",
        "r2_score = metrics.r2_score(Y_test, y_pred)\n",
        "mae = metrics.mean_absolute_error(Y_test, y_pred)\n",
        "mse = metrics.mean_squared_error(Y_test, y_pred)\n",
        "rmse = np.sqrt(mse)\n",
        "\n",
        "# Print results\n",
        "print(f\"Reduced R² Score: {r2_score}\")\n",
        "print(f\"Mean Absolute Error (MAE): {mae}\")\n",
        "print(f\"Mean Squared Error (MSE): {mse}\")\n",
        "print(f\"Root Mean Squared Error (RMSE): {rmse}\")\n",
        "\n",
        "# FEATURE IMPORTANCE ANALYSIS\n",
        "feature_importance = stacking_reg.final_estimator_.feature_importances_\n",
        "feature_names = X.columns\n",
        "\n",
        "# Plot feature importance\n",
        "# plt.figure(figsize=(10, 5))\n",
        "# plt.barh(feature_names, feature_importance, color='skyblue')\n",
        "# plt.xlabel(\"Feature Importance Score\")\n",
        "# plt.ylabel(\"Features\")\n",
        "# plt.title(\"Feature Importance in Final Model\")\n",
        "# plt.show()\n"
      ],
      "metadata": {
        "colab": {
          "base_uri": "https://localhost:8080/"
        },
        "id": "At1IMl_2kIYi",
        "outputId": "54224357-277f-4935-f511-6703cc3ce8bd"
      },
      "execution_count": null,
      "outputs": [
        {
          "output_type": "stream",
          "name": "stdout",
          "text": [
            "Reduced R² Score: 0.7060989319151031\n",
            "Mean Absolute Error (MAE): 6.407196159787213\n",
            "Mean Squared Error (MSE): 161.28185916652524\n",
            "Root Mean Squared Error (RMSE): 12.699679490700749\n"
          ]
        }
      ]
    }
  ]
}